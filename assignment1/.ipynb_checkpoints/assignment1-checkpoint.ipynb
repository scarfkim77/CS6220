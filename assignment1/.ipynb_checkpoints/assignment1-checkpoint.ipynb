{
 "cells": [
  {
   "cell_type": "markdown",
   "id": "462689a5",
   "metadata": {},
   "source": [
    "Let's begin by importing pandas. It is conventional to use pd to denote pandas"
   ]
  },
  {
   "cell_type": "code",
   "execution_count": 2,
   "id": "660c0764",
   "metadata": {},
   "outputs": [],
   "source": [
    "import pandas as pd\n",
    "\n",
    "unames = ['user_id', 'gender', 'age', 'occupation', 'zip']\n",
    "users = pd.read_table('users.dat', sep='::', header=None, names=unames, engine='python', encoding='ISO-8859-1')\n",
    "\n",
    "rnames = ['user_id', 'movie_id', 'rating', 'timestamp']\n",
    "ratings = pd.read_table('ratings.dat', sep='::', header=None, names=rnames, engine='python', encoding='ISO-8859-1')\n",
    "\n",
    "mnames = ['movie_id', 'title', 'genres']\n",
    "movies = pd.read_table('movies.dat', sep='::', header=None, names=mnames, engine='python', encoding='ISO-8859-1')\n",
    "\n",
    "data = pd.merge(pd.merge(ratings, users), movies)"
   ]
  },
  {
   "cell_type": "markdown",
   "id": "ec1460ed",
   "metadata": {},
   "source": [
    "Q1. An aggregate on the number of rating done for each particular genre"
   ]
  },
  {
   "cell_type": "code",
   "execution_count": 4,
   "id": "28b798aa",
   "metadata": {},
   "outputs": [
    {
     "data": {
      "text/html": [
       "<div>\n",
       "<style scoped>\n",
       "    .dataframe tbody tr th:only-of-type {\n",
       "        vertical-align: middle;\n",
       "    }\n",
       "\n",
       "    .dataframe tbody tr th {\n",
       "        vertical-align: top;\n",
       "    }\n",
       "\n",
       "    .dataframe thead th {\n",
       "        text-align: right;\n",
       "    }\n",
       "</style>\n",
       "<table border=\"1\" class=\"dataframe\">\n",
       "  <thead>\n",
       "    <tr style=\"text-align: right;\">\n",
       "      <th></th>\n",
       "      <th>user_id</th>\n",
       "      <th>movie_id</th>\n",
       "      <th>rating</th>\n",
       "      <th>timestamp</th>\n",
       "      <th>gender</th>\n",
       "      <th>age</th>\n",
       "      <th>occupation</th>\n",
       "      <th>zip</th>\n",
       "      <th>title</th>\n",
       "    </tr>\n",
       "    <tr>\n",
       "      <th>genres</th>\n",
       "      <th></th>\n",
       "      <th></th>\n",
       "      <th></th>\n",
       "      <th></th>\n",
       "      <th></th>\n",
       "      <th></th>\n",
       "      <th></th>\n",
       "      <th></th>\n",
       "      <th></th>\n",
       "    </tr>\n",
       "  </thead>\n",
       "  <tbody>\n",
       "    <tr>\n",
       "      <th>Action</th>\n",
       "      <td>12311</td>\n",
       "      <td>12311</td>\n",
       "      <td>12311</td>\n",
       "      <td>12311</td>\n",
       "      <td>12311</td>\n",
       "      <td>12311</td>\n",
       "      <td>12311</td>\n",
       "      <td>12311</td>\n",
       "      <td>12311</td>\n",
       "    </tr>\n",
       "    <tr>\n",
       "      <th>Action|Adventure</th>\n",
       "      <td>10446</td>\n",
       "      <td>10446</td>\n",
       "      <td>10446</td>\n",
       "      <td>10446</td>\n",
       "      <td>10446</td>\n",
       "      <td>10446</td>\n",
       "      <td>10446</td>\n",
       "      <td>10446</td>\n",
       "      <td>10446</td>\n",
       "    </tr>\n",
       "    <tr>\n",
       "      <th>Action|Adventure|Animation</th>\n",
       "      <td>345</td>\n",
       "      <td>345</td>\n",
       "      <td>345</td>\n",
       "      <td>345</td>\n",
       "      <td>345</td>\n",
       "      <td>345</td>\n",
       "      <td>345</td>\n",
       "      <td>345</td>\n",
       "      <td>345</td>\n",
       "    </tr>\n",
       "    <tr>\n",
       "      <th>Action|Adventure|Animation|Children's|Fantasy</th>\n",
       "      <td>135</td>\n",
       "      <td>135</td>\n",
       "      <td>135</td>\n",
       "      <td>135</td>\n",
       "      <td>135</td>\n",
       "      <td>135</td>\n",
       "      <td>135</td>\n",
       "      <td>135</td>\n",
       "      <td>135</td>\n",
       "    </tr>\n",
       "    <tr>\n",
       "      <th>Action|Adventure|Animation|Horror|Sci-Fi</th>\n",
       "      <td>618</td>\n",
       "      <td>618</td>\n",
       "      <td>618</td>\n",
       "      <td>618</td>\n",
       "      <td>618</td>\n",
       "      <td>618</td>\n",
       "      <td>618</td>\n",
       "      <td>618</td>\n",
       "      <td>618</td>\n",
       "    </tr>\n",
       "    <tr>\n",
       "      <th>...</th>\n",
       "      <td>...</td>\n",
       "      <td>...</td>\n",
       "      <td>...</td>\n",
       "      <td>...</td>\n",
       "      <td>...</td>\n",
       "      <td>...</td>\n",
       "      <td>...</td>\n",
       "      <td>...</td>\n",
       "      <td>...</td>\n",
       "    </tr>\n",
       "    <tr>\n",
       "      <th>Sci-Fi|Thriller|War</th>\n",
       "      <td>280</td>\n",
       "      <td>280</td>\n",
       "      <td>280</td>\n",
       "      <td>280</td>\n",
       "      <td>280</td>\n",
       "      <td>280</td>\n",
       "      <td>280</td>\n",
       "      <td>280</td>\n",
       "      <td>280</td>\n",
       "    </tr>\n",
       "    <tr>\n",
       "      <th>Sci-Fi|War</th>\n",
       "      <td>1367</td>\n",
       "      <td>1367</td>\n",
       "      <td>1367</td>\n",
       "      <td>1367</td>\n",
       "      <td>1367</td>\n",
       "      <td>1367</td>\n",
       "      <td>1367</td>\n",
       "      <td>1367</td>\n",
       "      <td>1367</td>\n",
       "    </tr>\n",
       "    <tr>\n",
       "      <th>Thriller</th>\n",
       "      <td>17851</td>\n",
       "      <td>17851</td>\n",
       "      <td>17851</td>\n",
       "      <td>17851</td>\n",
       "      <td>17851</td>\n",
       "      <td>17851</td>\n",
       "      <td>17851</td>\n",
       "      <td>17851</td>\n",
       "      <td>17851</td>\n",
       "    </tr>\n",
       "    <tr>\n",
       "      <th>War</th>\n",
       "      <td>991</td>\n",
       "      <td>991</td>\n",
       "      <td>991</td>\n",
       "      <td>991</td>\n",
       "      <td>991</td>\n",
       "      <td>991</td>\n",
       "      <td>991</td>\n",
       "      <td>991</td>\n",
       "      <td>991</td>\n",
       "    </tr>\n",
       "    <tr>\n",
       "      <th>Western</th>\n",
       "      <td>5689</td>\n",
       "      <td>5689</td>\n",
       "      <td>5689</td>\n",
       "      <td>5689</td>\n",
       "      <td>5689</td>\n",
       "      <td>5689</td>\n",
       "      <td>5689</td>\n",
       "      <td>5689</td>\n",
       "      <td>5689</td>\n",
       "    </tr>\n",
       "  </tbody>\n",
       "</table>\n",
       "<p>301 rows × 9 columns</p>\n",
       "</div>"
      ],
      "text/plain": [
       "                                               user_id  movie_id  rating  \\\n",
       "genres                                                                     \n",
       "Action                                           12311     12311   12311   \n",
       "Action|Adventure                                 10446     10446   10446   \n",
       "Action|Adventure|Animation                         345       345     345   \n",
       "Action|Adventure|Animation|Children's|Fantasy      135       135     135   \n",
       "Action|Adventure|Animation|Horror|Sci-Fi           618       618     618   \n",
       "...                                                ...       ...     ...   \n",
       "Sci-Fi|Thriller|War                                280       280     280   \n",
       "Sci-Fi|War                                        1367      1367    1367   \n",
       "Thriller                                         17851     17851   17851   \n",
       "War                                                991       991     991   \n",
       "Western                                           5689      5689    5689   \n",
       "\n",
       "                                               timestamp  gender    age  \\\n",
       "genres                                                                    \n",
       "Action                                             12311   12311  12311   \n",
       "Action|Adventure                                   10446   10446  10446   \n",
       "Action|Adventure|Animation                           345     345    345   \n",
       "Action|Adventure|Animation|Children's|Fantasy        135     135    135   \n",
       "Action|Adventure|Animation|Horror|Sci-Fi             618     618    618   \n",
       "...                                                  ...     ...    ...   \n",
       "Sci-Fi|Thriller|War                                  280     280    280   \n",
       "Sci-Fi|War                                          1367    1367   1367   \n",
       "Thriller                                           17851   17851  17851   \n",
       "War                                                  991     991    991   \n",
       "Western                                             5689    5689   5689   \n",
       "\n",
       "                                               occupation    zip  title  \n",
       "genres                                                                   \n",
       "Action                                              12311  12311  12311  \n",
       "Action|Adventure                                    10446  10446  10446  \n",
       "Action|Adventure|Animation                            345    345    345  \n",
       "Action|Adventure|Animation|Children's|Fantasy         135    135    135  \n",
       "Action|Adventure|Animation|Horror|Sci-Fi              618    618    618  \n",
       "...                                                   ...    ...    ...  \n",
       "Sci-Fi|Thriller|War                                   280    280    280  \n",
       "Sci-Fi|War                                           1367   1367   1367  \n",
       "Thriller                                            17851  17851  17851  \n",
       "War                                                   991    991    991  \n",
       "Western                                              5689   5689   5689  \n",
       "\n",
       "[301 rows x 9 columns]"
      ]
     },
     "execution_count": 4,
     "metadata": {},
     "output_type": "execute_result"
    }
   ],
   "source": [
    "data.groupby(['genres']).count()"
   ]
  },
  {
   "cell_type": "markdown",
   "id": "7e81e5ac",
   "metadata": {},
   "source": [
    "Q2. The top 5 ranked genres by women on most number of rating"
   ]
  },
  {
   "cell_type": "code",
   "execution_count": 5,
   "id": "e47708bc",
   "metadata": {},
   "outputs": [
    {
     "data": {
      "text/html": [
       "<div>\n",
       "<style scoped>\n",
       "    .dataframe tbody tr th:only-of-type {\n",
       "        vertical-align: middle;\n",
       "    }\n",
       "\n",
       "    .dataframe tbody tr th {\n",
       "        vertical-align: top;\n",
       "    }\n",
       "\n",
       "    .dataframe thead th {\n",
       "        text-align: right;\n",
       "    }\n",
       "</style>\n",
       "<table border=\"1\" class=\"dataframe\">\n",
       "  <thead>\n",
       "    <tr style=\"text-align: right;\">\n",
       "      <th>gender</th>\n",
       "      <th>F</th>\n",
       "      <th>M</th>\n",
       "    </tr>\n",
       "    <tr>\n",
       "      <th>genres</th>\n",
       "      <th></th>\n",
       "      <th></th>\n",
       "    </tr>\n",
       "  </thead>\n",
       "  <tbody>\n",
       "    <tr>\n",
       "      <th>Action</th>\n",
       "      <td>3.490252</td>\n",
       "      <td>3.491386</td>\n",
       "    </tr>\n",
       "    <tr>\n",
       "      <th>Adventure</th>\n",
       "      <td>3.512879</td>\n",
       "      <td>3.468125</td>\n",
       "    </tr>\n",
       "    <tr>\n",
       "      <th>Animation</th>\n",
       "      <td>3.744702</td>\n",
       "      <td>3.661335</td>\n",
       "    </tr>\n",
       "    <tr>\n",
       "      <th>Children's</th>\n",
       "      <td>3.572548</td>\n",
       "      <td>3.358961</td>\n",
       "    </tr>\n",
       "    <tr>\n",
       "      <th>Comedy</th>\n",
       "      <td>3.571938</td>\n",
       "      <td>3.503667</td>\n",
       "    </tr>\n",
       "    <tr>\n",
       "      <th>Crime</th>\n",
       "      <td>3.689332</td>\n",
       "      <td>3.713720</td>\n",
       "    </tr>\n",
       "    <tr>\n",
       "      <th>Documentary</th>\n",
       "      <td>3.946392</td>\n",
       "      <td>3.928811</td>\n",
       "    </tr>\n",
       "    <tr>\n",
       "      <th>Drama</th>\n",
       "      <td>3.765662</td>\n",
       "      <td>3.766589</td>\n",
       "    </tr>\n",
       "    <tr>\n",
       "      <th>Fantasy</th>\n",
       "      <td>3.513076</td>\n",
       "      <td>3.426603</td>\n",
       "    </tr>\n",
       "    <tr>\n",
       "      <th>Film-Noir</th>\n",
       "      <td>4.018087</td>\n",
       "      <td>4.092254</td>\n",
       "    </tr>\n",
       "  </tbody>\n",
       "</table>\n",
       "</div>"
      ],
      "text/plain": [
       "gender              F         M\n",
       "genres                         \n",
       "Action       3.490252  3.491386\n",
       "Adventure    3.512879  3.468125\n",
       "Animation    3.744702  3.661335\n",
       "Children's   3.572548  3.358961\n",
       "Comedy       3.571938  3.503667\n",
       "Crime        3.689332  3.713720\n",
       "Documentary  3.946392  3.928811\n",
       "Drama        3.765662  3.766589\n",
       "Fantasy      3.513076  3.426603\n",
       "Film-Noir    4.018087  4.092254"
      ]
     },
     "execution_count": 5,
     "metadata": {},
     "output_type": "execute_result"
    }
   ],
   "source": [
    "genre_ratings = data.set_index(data.columns.drop('genres',1).tolist()).genres.str.split('|', expand=True).stack().reset_index().rename(columns={0:'genres'}).loc[:, data.columns]\n",
    "genres = genre_ratings.pivot_table('rating', index='genres', columns='gender', aggfunc='mean')\n",
    "genres[:10]"
   ]
  },
  {
   "cell_type": "code",
   "execution_count": 6,
   "id": "f66664c9",
   "metadata": {},
   "outputs": [
    {
     "data": {
      "text/plain": [
       "genres\n",
       "Film-Noir      4.018087\n",
       "Documentary    3.946392\n",
       "War            3.893138\n",
       "Musical        3.809108\n",
       "Drama          3.765662\n",
       "Name: F, dtype: float64"
      ]
     },
     "execution_count": 6,
     "metadata": {},
     "output_type": "execute_result"
    }
   ],
   "source": [
    "female_top = genres['F'].sort_values(ascending=False)\n",
    "female_top[:5]"
   ]
  },
  {
   "cell_type": "markdown",
   "id": "d0b24aa6",
   "metadata": {},
   "source": [
    "Q3. The top 5 ranked genres by men on most number of rating"
   ]
  },
  {
   "cell_type": "code",
   "execution_count": 7,
   "id": "cbc251f4",
   "metadata": {},
   "outputs": [
    {
     "data": {
      "text/plain": [
       "genres\n",
       "Film-Noir      4.092254\n",
       "Documentary    3.928811\n",
       "War            3.893375\n",
       "Drama          3.766589\n",
       "Crime          3.713720\n",
       "Name: M, dtype: float64"
      ]
     },
     "execution_count": 7,
     "metadata": {},
     "output_type": "execute_result"
    }
   ],
   "source": [
    "male_top = genres['M'].sort_values(ascending=False)\n",
    "male_top[:5]"
   ]
  },
  {
   "cell_type": "markdown",
   "id": "065de5b6",
   "metadata": {},
   "source": [
    "Q4. Pick a genre of your choice and provide average movie’s ratings by the following\n",
    "four time intervals"
   ]
  },
  {
   "cell_type": "markdown",
   "id": "d5ac90f8",
   "metadata": {},
   "source": [
    "(a) 1970 to 1979"
   ]
  },
  {
   "cell_type": "code",
   "execution_count": 8,
   "id": "715eb647",
   "metadata": {},
   "outputs": [
    {
     "data": {
      "text/plain": [
       "3.9167029458714264"
      ]
     },
     "execution_count": 8,
     "metadata": {},
     "output_type": "execute_result"
    }
   ],
   "source": [
    "data['title']=data['title'].str.slice(-5,-1).astype('int')\n",
    "interval1=data.loc[(data[\"genres\"] == \"Drama\") & (data[\"title\"] >= 1970) & (data[\"title\"] <= 1979)]\n",
    "interval1[\"rating\"].mean()"
   ]
  },
  {
   "cell_type": "markdown",
   "id": "e737b68f",
   "metadata": {},
   "source": [
    "(b) 1980 to 1989"
   ]
  },
  {
   "cell_type": "code",
   "execution_count": 9,
   "id": "1d4cff60",
   "metadata": {},
   "outputs": [
    {
     "data": {
      "text/plain": [
       "3.775669352742397"
      ]
     },
     "execution_count": 9,
     "metadata": {},
     "output_type": "execute_result"
    }
   ],
   "source": [
    "interval2=data.loc[(data[\"genres\"] == \"Drama\") & (data[\"title\"] >= 1980) & (data[\"title\"] <= 1989)]\n",
    "interval2[\"rating\"].mean()"
   ]
  },
  {
   "cell_type": "markdown",
   "id": "41ec52ff",
   "metadata": {},
   "source": [
    " (c) 1990 to 1999"
   ]
  },
  {
   "cell_type": "code",
   "execution_count": 10,
   "id": "ae3a67bb",
   "metadata": {},
   "outputs": [
    {
     "data": {
      "text/plain": [
       "3.7056136079801445"
      ]
     },
     "execution_count": 10,
     "metadata": {},
     "output_type": "execute_result"
    }
   ],
   "source": [
    "interval3=data.loc[(data[\"genres\"] == \"Drama\") & (data[\"title\"] >= 1990) & (data[\"title\"] <= 1999)]\n",
    "interval3[\"rating\"].mean()"
   ]
  },
  {
   "cell_type": "markdown",
   "id": "b6974d72",
   "metadata": {},
   "source": [
    "(d) 2000 to 2009"
   ]
  },
  {
   "cell_type": "code",
   "execution_count": 11,
   "id": "04c89b0b",
   "metadata": {},
   "outputs": [
    {
     "data": {
      "text/plain": [
       "3.626737427343947"
      ]
     },
     "execution_count": 11,
     "metadata": {},
     "output_type": "execute_result"
    }
   ],
   "source": [
    "interval4=data.loc[(data[\"genres\"] == \"Drama\") & (data[\"title\"] >= 2000) & (data[\"title\"] <= 2009)]\n",
    "interval4[\"rating\"].mean()"
   ]
  },
  {
   "cell_type": "markdown",
   "id": "0571a2bc",
   "metadata": {},
   "source": [
    "Q5. A function that given a genre and a rating_range (i.e. [3.5, 4]), returns all\n",
    "the movies of that genre and within that rating range sorted by average rating"
   ]
  },
  {
   "cell_type": "code",
   "execution_count": 13,
   "id": "d7b4658b",
   "metadata": {},
   "outputs": [],
   "source": [
    "def select_by_genre_and_rating(genre,rating_range):\n",
    "    rating_range = rating_range.lstrip (\"[\").rstrip (\"]\")\n",
    "    lower = float(rating_range.split(\",\")[0])\n",
    "    upper = float(rating_range.split(\",\")[1])\n",
    "    data[\"rating\"] = data[\"rating\"].astype(float)\n",
    "    movies = data.loc[(data[\"genres\"] == genre) & (data[\"rating\"] >= lower) & (data[\"rating\"] <= upper)]\n",
    "    return movies"
   ]
  },
  {
   "cell_type": "code",
   "execution_count": 14,
   "id": "e473f178",
   "metadata": {},
   "outputs": [
    {
     "data": {
      "text/html": [
       "<div>\n",
       "<style scoped>\n",
       "    .dataframe tbody tr th:only-of-type {\n",
       "        vertical-align: middle;\n",
       "    }\n",
       "\n",
       "    .dataframe tbody tr th {\n",
       "        vertical-align: top;\n",
       "    }\n",
       "\n",
       "    .dataframe thead th {\n",
       "        text-align: right;\n",
       "    }\n",
       "</style>\n",
       "<table border=\"1\" class=\"dataframe\">\n",
       "  <thead>\n",
       "    <tr style=\"text-align: right;\">\n",
       "      <th></th>\n",
       "      <th>user_id</th>\n",
       "      <th>movie_id</th>\n",
       "      <th>rating</th>\n",
       "      <th>timestamp</th>\n",
       "      <th>gender</th>\n",
       "      <th>age</th>\n",
       "      <th>occupation</th>\n",
       "      <th>zip</th>\n",
       "      <th>title</th>\n",
       "      <th>genres</th>\n",
       "    </tr>\n",
       "  </thead>\n",
       "  <tbody>\n",
       "    <tr>\n",
       "      <th>14386</th>\n",
       "      <td>1</td>\n",
       "      <td>2918</td>\n",
       "      <td>4.0</td>\n",
       "      <td>978302124</td>\n",
       "      <td>F</td>\n",
       "      <td>1</td>\n",
       "      <td>10</td>\n",
       "      <td>48067</td>\n",
       "      <td>1986</td>\n",
       "      <td>Comedy</td>\n",
       "    </tr>\n",
       "    <tr>\n",
       "      <th>14389</th>\n",
       "      <td>19</td>\n",
       "      <td>2918</td>\n",
       "      <td>4.0</td>\n",
       "      <td>982190563</td>\n",
       "      <td>M</td>\n",
       "      <td>1</td>\n",
       "      <td>10</td>\n",
       "      <td>48073</td>\n",
       "      <td>1986</td>\n",
       "      <td>Comedy</td>\n",
       "    </tr>\n",
       "    <tr>\n",
       "      <th>14390</th>\n",
       "      <td>22</td>\n",
       "      <td>2918</td>\n",
       "      <td>4.0</td>\n",
       "      <td>978134977</td>\n",
       "      <td>M</td>\n",
       "      <td>18</td>\n",
       "      <td>15</td>\n",
       "      <td>53706</td>\n",
       "      <td>1986</td>\n",
       "      <td>Comedy</td>\n",
       "    </tr>\n",
       "    <tr>\n",
       "      <th>14391</th>\n",
       "      <td>24</td>\n",
       "      <td>2918</td>\n",
       "      <td>4.0</td>\n",
       "      <td>978132276</td>\n",
       "      <td>F</td>\n",
       "      <td>25</td>\n",
       "      <td>7</td>\n",
       "      <td>10023</td>\n",
       "      <td>1986</td>\n",
       "      <td>Comedy</td>\n",
       "    </tr>\n",
       "    <tr>\n",
       "      <th>14397</th>\n",
       "      <td>36</td>\n",
       "      <td>2918</td>\n",
       "      <td>4.0</td>\n",
       "      <td>978063380</td>\n",
       "      <td>M</td>\n",
       "      <td>25</td>\n",
       "      <td>3</td>\n",
       "      <td>94123</td>\n",
       "      <td>1986</td>\n",
       "      <td>Comedy</td>\n",
       "    </tr>\n",
       "    <tr>\n",
       "      <th>...</th>\n",
       "      <td>...</td>\n",
       "      <td>...</td>\n",
       "      <td>...</td>\n",
       "      <td>...</td>\n",
       "      <td>...</td>\n",
       "      <td>...</td>\n",
       "      <td>...</td>\n",
       "      <td>...</td>\n",
       "      <td>...</td>\n",
       "      <td>...</td>\n",
       "    </tr>\n",
       "    <tr>\n",
       "      <th>1000118</th>\n",
       "      <td>3790</td>\n",
       "      <td>2623</td>\n",
       "      <td>4.0</td>\n",
       "      <td>966019247</td>\n",
       "      <td>F</td>\n",
       "      <td>25</td>\n",
       "      <td>17</td>\n",
       "      <td>94618</td>\n",
       "      <td>1999</td>\n",
       "      <td>Comedy</td>\n",
       "    </tr>\n",
       "    <tr>\n",
       "      <th>1000131</th>\n",
       "      <td>4116</td>\n",
       "      <td>2811</td>\n",
       "      <td>4.0</td>\n",
       "      <td>966916243</td>\n",
       "      <td>M</td>\n",
       "      <td>35</td>\n",
       "      <td>7</td>\n",
       "      <td>07040</td>\n",
       "      <td>1998</td>\n",
       "      <td>Comedy</td>\n",
       "    </tr>\n",
       "    <tr>\n",
       "      <th>1000132</th>\n",
       "      <td>4169</td>\n",
       "      <td>2811</td>\n",
       "      <td>4.0</td>\n",
       "      <td>1016492378</td>\n",
       "      <td>M</td>\n",
       "      <td>50</td>\n",
       "      <td>0</td>\n",
       "      <td>66048</td>\n",
       "      <td>1998</td>\n",
       "      <td>Comedy</td>\n",
       "    </tr>\n",
       "    <tr>\n",
       "      <th>1000192</th>\n",
       "      <td>5754</td>\n",
       "      <td>2543</td>\n",
       "      <td>4.0</td>\n",
       "      <td>958272316</td>\n",
       "      <td>F</td>\n",
       "      <td>18</td>\n",
       "      <td>1</td>\n",
       "      <td>60640</td>\n",
       "      <td>1997</td>\n",
       "      <td>Comedy</td>\n",
       "    </tr>\n",
       "    <tr>\n",
       "      <th>1000202</th>\n",
       "      <td>5494</td>\n",
       "      <td>3530</td>\n",
       "      <td>4.0</td>\n",
       "      <td>959816296</td>\n",
       "      <td>F</td>\n",
       "      <td>35</td>\n",
       "      <td>17</td>\n",
       "      <td>94306</td>\n",
       "      <td>1993</td>\n",
       "      <td>Comedy</td>\n",
       "    </tr>\n",
       "  </tbody>\n",
       "</table>\n",
       "<p>39574 rows × 10 columns</p>\n",
       "</div>"
      ],
      "text/plain": [
       "         user_id  movie_id  rating   timestamp gender  age  occupation    zip  \\\n",
       "14386          1      2918     4.0   978302124      F    1          10  48067   \n",
       "14389         19      2918     4.0   982190563      M    1          10  48073   \n",
       "14390         22      2918     4.0   978134977      M   18          15  53706   \n",
       "14391         24      2918     4.0   978132276      F   25           7  10023   \n",
       "14397         36      2918     4.0   978063380      M   25           3  94123   \n",
       "...          ...       ...     ...         ...    ...  ...         ...    ...   \n",
       "1000118     3790      2623     4.0   966019247      F   25          17  94618   \n",
       "1000131     4116      2811     4.0   966916243      M   35           7  07040   \n",
       "1000132     4169      2811     4.0  1016492378      M   50           0  66048   \n",
       "1000192     5754      2543     4.0   958272316      F   18           1  60640   \n",
       "1000202     5494      3530     4.0   959816296      F   35          17  94306   \n",
       "\n",
       "         title  genres  \n",
       "14386     1986  Comedy  \n",
       "14389     1986  Comedy  \n",
       "14390     1986  Comedy  \n",
       "14391     1986  Comedy  \n",
       "14397     1986  Comedy  \n",
       "...        ...     ...  \n",
       "1000118   1999  Comedy  \n",
       "1000131   1998  Comedy  \n",
       "1000132   1998  Comedy  \n",
       "1000192   1997  Comedy  \n",
       "1000202   1993  Comedy  \n",
       "\n",
       "[39574 rows x 10 columns]"
      ]
     },
     "execution_count": 14,
     "metadata": {},
     "output_type": "execute_result"
    }
   ],
   "source": [
    "# choose Comedy genre within the rating range[3.5, 4], show all movies meeting the requirements\n",
    "select_by_genre_and_rating('Comedy','[3.5,4]')"
   ]
  },
  {
   "cell_type": "markdown",
   "id": "7c49162b",
   "metadata": {},
   "source": [
    "Q6. Present one other statistic, figure, aggregate, or plot that you created using this dataset, along with a short description of what interesting observations you derived from it"
   ]
  },
  {
   "cell_type": "code",
   "execution_count": 45,
   "id": "43e9cb38",
   "metadata": {},
   "outputs": [
    {
     "data": {
      "text/html": [
       "<div>\n",
       "<style scoped>\n",
       "    .dataframe tbody tr th:only-of-type {\n",
       "        vertical-align: middle;\n",
       "    }\n",
       "\n",
       "    .dataframe tbody tr th {\n",
       "        vertical-align: top;\n",
       "    }\n",
       "\n",
       "    .dataframe thead th {\n",
       "        text-align: right;\n",
       "    }\n",
       "</style>\n",
       "<table border=\"1\" class=\"dataframe\">\n",
       "  <thead>\n",
       "    <tr style=\"text-align: right;\">\n",
       "      <th>age_group</th>\n",
       "      <th>19 to 45</th>\n",
       "      <th>Above 45</th>\n",
       "      <th>Under 18</th>\n",
       "    </tr>\n",
       "    <tr>\n",
       "      <th>genres</th>\n",
       "      <th></th>\n",
       "      <th></th>\n",
       "      <th></th>\n",
       "    </tr>\n",
       "  </thead>\n",
       "  <tbody>\n",
       "    <tr>\n",
       "      <th>Action</th>\n",
       "      <td>3.486032</td>\n",
       "      <td>3.611131</td>\n",
       "      <td>3.453967</td>\n",
       "    </tr>\n",
       "    <tr>\n",
       "      <th>Adventure</th>\n",
       "      <td>3.474765</td>\n",
       "      <td>3.635071</td>\n",
       "      <td>3.413990</td>\n",
       "    </tr>\n",
       "    <tr>\n",
       "      <th>Animation</th>\n",
       "      <td>3.716387</td>\n",
       "      <td>3.771750</td>\n",
       "      <td>3.595534</td>\n",
       "    </tr>\n",
       "    <tr>\n",
       "      <th>Children's</th>\n",
       "      <td>3.467318</td>\n",
       "      <td>3.577882</td>\n",
       "      <td>3.283524</td>\n",
       "    </tr>\n",
       "    <tr>\n",
       "      <th>Comedy</th>\n",
       "      <td>3.522780</td>\n",
       "      <td>3.648259</td>\n",
       "      <td>3.465517</td>\n",
       "    </tr>\n",
       "    <tr>\n",
       "      <th>Crime</th>\n",
       "      <td>3.702944</td>\n",
       "      <td>3.818342</td>\n",
       "      <td>3.672250</td>\n",
       "    </tr>\n",
       "    <tr>\n",
       "      <th>Documentary</th>\n",
       "      <td>3.951054</td>\n",
       "      <td>3.925153</td>\n",
       "      <td>3.851363</td>\n",
       "    </tr>\n",
       "    <tr>\n",
       "      <th>Drama</th>\n",
       "      <td>3.750670</td>\n",
       "      <td>3.898852</td>\n",
       "      <td>3.730236</td>\n",
       "    </tr>\n",
       "    <tr>\n",
       "      <th>Fantasy</th>\n",
       "      <td>3.470176</td>\n",
       "      <td>3.566504</td>\n",
       "      <td>3.348457</td>\n",
       "    </tr>\n",
       "    <tr>\n",
       "      <th>Film-Noir</th>\n",
       "      <td>4.067679</td>\n",
       "      <td>4.155996</td>\n",
       "      <td>4.016092</td>\n",
       "    </tr>\n",
       "  </tbody>\n",
       "</table>\n",
       "</div>"
      ],
      "text/plain": [
       "age_group    19 to 45  Above 45  Under 18\n",
       "genres                                   \n",
       "Action       3.486032  3.611131  3.453967\n",
       "Adventure    3.474765  3.635071  3.413990\n",
       "Animation    3.716387  3.771750  3.595534\n",
       "Children's   3.467318  3.577882  3.283524\n",
       "Comedy       3.522780  3.648259  3.465517\n",
       "Crime        3.702944  3.818342  3.672250\n",
       "Documentary  3.951054  3.925153  3.851363\n",
       "Drama        3.750670  3.898852  3.730236\n",
       "Fantasy      3.470176  3.566504  3.348457\n",
       "Film-Noir    4.067679  4.155996  4.016092"
      ]
     },
     "execution_count": 45,
     "metadata": {},
     "output_type": "execute_result"
    }
   ],
   "source": [
    "# let's look at if there is any difference regarding genre preference between different aged people\n",
    "# first, divide people by age into 3 groups\n",
    "age_range = data.age.unique()\n",
    "age_range.sort()\n",
    "age_groups = {\n",
    "    1: 'Under 18', \n",
    "    18: 'Under 18', \n",
    "    25: '19 to 45', \n",
    "    35: '19 to 45', \n",
    "    45: '19 to 45', \n",
    "    50: 'Above 45',\n",
    "    56: 'Above 45'\n",
    "}\n",
    "\n",
    "data['age_group'] = [age_groups[x] for x in data['age']]\n",
    "\n",
    "aged_genres = genre_ratings.pivot_table('rating', index='genres', columns='age_group', aggfunc='mean')\n",
    "aged_genres[:10]"
   ]
  },
  {
   "cell_type": "code",
   "execution_count": 46,
   "id": "9c4946c0",
   "metadata": {},
   "outputs": [
    {
     "data": {
      "text/plain": [
       "genres\n",
       "Film-Noir      4.016092\n",
       "War            3.858497\n",
       "Documentary    3.851363\n",
       "Drama          3.730236\n",
       "Crime          3.672250\n",
       "Name: Under 18, dtype: float64"
      ]
     },
     "execution_count": 46,
     "metadata": {},
     "output_type": "execute_result"
    }
   ],
   "source": [
    "# then, find the top5 genre for people under 18\n",
    "generation1_top = aged_genres['Under 18'].sort_values(ascending=False)\n",
    "generation1_top[:5]"
   ]
  },
  {
   "cell_type": "code",
   "execution_count": 47,
   "id": "f5d59be8",
   "metadata": {},
   "outputs": [
    {
     "data": {
      "text/plain": [
       "genres\n",
       "Film-Noir      4.067679\n",
       "Documentary    3.951054\n",
       "War            3.877376\n",
       "Drama          3.750670\n",
       "Animation      3.716387\n",
       "Name: 19 to 45, dtype: float64"
      ]
     },
     "execution_count": 47,
     "metadata": {},
     "output_type": "execute_result"
    }
   ],
   "source": [
    "# find the top5 genre for people between 19 to 45\n",
    "generation2_top = aged_genres['19 to 45'].sort_values(ascending=False)\n",
    "generation2_top[:5]"
   ]
  },
  {
   "cell_type": "code",
   "execution_count": 48,
   "id": "cc86e2b9",
   "metadata": {},
   "outputs": [
    {
     "data": {
      "text/plain": [
       "genres\n",
       "Film-Noir      4.155996\n",
       "War            4.009020\n",
       "Documentary    3.925153\n",
       "Drama          3.898852\n",
       "Mystery        3.887595\n",
       "Name: Above 45, dtype: float64"
      ]
     },
     "execution_count": 48,
     "metadata": {},
     "output_type": "execute_result"
    }
   ],
   "source": [
    "# find the top5 genre for people above 45\n",
    "generation3_top = aged_genres['Above 45'].sort_values(ascending=False)\n",
    "generation3_top[:5]"
   ]
  },
  {
   "cell_type": "code",
   "execution_count": 68,
   "id": "f907594b",
   "metadata": {},
   "outputs": [
    {
     "data": {
      "text/plain": [
       "<Figure size 432x288 with 0 Axes>"
      ]
     },
     "metadata": {},
     "output_type": "display_data"
    },
    {
     "data": {
      "image/png": "[encoded data removed]",
      "text/plain": [
       "<Figure size 1080x720 with 1 Axes>"
      ]
     },
     "metadata": {
      "needs_background": "light"
     },
     "output_type": "display_data"
    }
   ],
   "source": [
    "# we can see that the top5 genres in different age groups have slight differences\n",
    "# Genre Film-Noir, War, Documentary,and Drama exist in all 3 age groups\n",
    "# let's graph the average genre ratings by age groups\n",
    "labels = ['Under 18', '19 to 45', 'Above 45']\n",
    "plt.figure()\n",
    "x_axis = aged_genres[labels[:6]].plot(kind='bar', title =\"Genre preference in different age\",figsize=(15,10),legend=True, fontsize=12)\n",
    "x_axis.set_xlabel(\"Genre\",fontsize=12)\n",
    "plt.xticks(rotation = 45) \n",
    "x_axis.set_ylabel(\"Rating\",fontsize=12)\n",
    "plt.show()"
   ]
  }
 ],
 "metadata": {
  "kernelspec": {
   "display_name": "Python 3 (ipykernel)",
   "language": "python",
   "name": "python3"
  },
  "language_info": {
   "codemirror_mode": {
    "name": "ipython",
    "version": 3
   },
   "file_extension": ".py",
   "mimetype": "text/x-python",
   "name": "python",
   "nbconvert_exporter": "python",
   "pygments_lexer": "ipython3",
   "version": "3.9.7"
  }
 },
 "nbformat": 4,
 "nbformat_minor": 5
}
