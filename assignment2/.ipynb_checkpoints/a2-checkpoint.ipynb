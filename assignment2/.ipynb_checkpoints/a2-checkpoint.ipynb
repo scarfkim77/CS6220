{
 "cells": [
  {
   "cell_type": "markdown",
   "id": "2f74c95b",
   "metadata": {},
   "source": [
    "1 Iris Dataset"
   ]
  },
  {
   "cell_type": "code",
   "execution_count": 1,
   "id": "64dd0ced",
   "metadata": {},
   "outputs": [],
   "source": [
    "import pandas as pd\n",
    "import numpy as np\n",
    "import matplotlib.pyplot as plt\n",
    "names = [\"Sepal Length\", \"Sepal Width\",\"Petal Length\", \"Petal Width\", \"Class\"]\n",
    "iris = pd.read_csv('iris.data', names=names, sep=',')"
   ]
  },
  {
   "cell_type": "markdown",
   "id": "9ae68aaa",
   "metadata": {},
   "source": [
    "1.1 Summary Statistics"
   ]
  },
  {
   "cell_type": "code",
   "execution_count": 2,
   "id": "5d6dbd11",
   "metadata": {},
   "outputs": [
    {
     "name": "stdout",
     "output_type": "stream",
     "text": [
      "Sepal Length: [4.3, 7.9]\n",
      "Sepal Width: [2.0, 4.4]\n",
      "Petal Length: [1.0, 6.9]\n",
      "Petal Width: [0.1, 2.5]\n"
     ]
    }
   ],
   "source": [
    "# range\n",
    "for name in [\"Sepal Length\", \"Sepal Width\",\"Petal Length\", \"Petal Width\"]:\n",
    "    print(name+\": [\"+str(iris[name].min())+\", \"+str(iris[name].max())+\"]\")"
   ]
  },
  {
   "cell_type": "code",
   "execution_count": 3,
   "id": "1a528b66",
   "metadata": {},
   "outputs": [
    {
     "data": {
      "text/plain": [
       "Sepal Length    0.685694\n",
       "Sepal Width     0.188004\n",
       "Petal Length    3.113179\n",
       "Petal Width     0.582414\n",
       "dtype: float64"
      ]
     },
     "execution_count": 3,
     "metadata": {},
     "output_type": "execute_result"
    }
   ],
   "source": [
    "# variance\n",
    "iris.var(numeric_only=True)"
   ]
  },
  {
   "cell_type": "code",
   "execution_count": 4,
   "id": "2ecd8d66",
   "metadata": {},
   "outputs": [
    {
     "data": {
      "text/html": [
       "<div>\n",
       "<style scoped>\n",
       "    .dataframe tbody tr th:only-of-type {\n",
       "        vertical-align: middle;\n",
       "    }\n",
       "\n",
       "    .dataframe tbody tr th {\n",
       "        vertical-align: top;\n",
       "    }\n",
       "\n",
       "    .dataframe thead th {\n",
       "        text-align: right;\n",
       "    }\n",
       "</style>\n",
       "<table border=\"1\" class=\"dataframe\">\n",
       "  <thead>\n",
       "    <tr style=\"text-align: right;\">\n",
       "      <th></th>\n",
       "      <th>Sepal Length</th>\n",
       "      <th>Sepal Width</th>\n",
       "      <th>Petal Length</th>\n",
       "      <th>Petal Width</th>\n",
       "    </tr>\n",
       "  </thead>\n",
       "  <tbody>\n",
       "    <tr>\n",
       "      <th>count</th>\n",
       "      <td>150.000000</td>\n",
       "      <td>150.000000</td>\n",
       "      <td>150.000000</td>\n",
       "      <td>150.000000</td>\n",
       "    </tr>\n",
       "    <tr>\n",
       "      <th>mean</th>\n",
       "      <td>5.843333</td>\n",
       "      <td>3.054000</td>\n",
       "      <td>3.758667</td>\n",
       "      <td>1.198667</td>\n",
       "    </tr>\n",
       "    <tr>\n",
       "      <th>std</th>\n",
       "      <td>0.828066</td>\n",
       "      <td>0.433594</td>\n",
       "      <td>1.764420</td>\n",
       "      <td>0.763161</td>\n",
       "    </tr>\n",
       "    <tr>\n",
       "      <th>min</th>\n",
       "      <td>4.300000</td>\n",
       "      <td>2.000000</td>\n",
       "      <td>1.000000</td>\n",
       "      <td>0.100000</td>\n",
       "    </tr>\n",
       "    <tr>\n",
       "      <th>25%</th>\n",
       "      <td>5.100000</td>\n",
       "      <td>2.800000</td>\n",
       "      <td>1.600000</td>\n",
       "      <td>0.300000</td>\n",
       "    </tr>\n",
       "    <tr>\n",
       "      <th>50%</th>\n",
       "      <td>5.800000</td>\n",
       "      <td>3.000000</td>\n",
       "      <td>4.350000</td>\n",
       "      <td>1.300000</td>\n",
       "    </tr>\n",
       "    <tr>\n",
       "      <th>75%</th>\n",
       "      <td>6.400000</td>\n",
       "      <td>3.300000</td>\n",
       "      <td>5.100000</td>\n",
       "      <td>1.800000</td>\n",
       "    </tr>\n",
       "    <tr>\n",
       "      <th>max</th>\n",
       "      <td>7.900000</td>\n",
       "      <td>4.400000</td>\n",
       "      <td>6.900000</td>\n",
       "      <td>2.500000</td>\n",
       "    </tr>\n",
       "  </tbody>\n",
       "</table>\n",
       "</div>"
      ],
      "text/plain": [
       "       Sepal Length  Sepal Width  Petal Length  Petal Width\n",
       "count    150.000000   150.000000    150.000000   150.000000\n",
       "mean       5.843333     3.054000      3.758667     1.198667\n",
       "std        0.828066     0.433594      1.764420     0.763161\n",
       "min        4.300000     2.000000      1.000000     0.100000\n",
       "25%        5.100000     2.800000      1.600000     0.300000\n",
       "50%        5.800000     3.000000      4.350000     1.300000\n",
       "75%        6.400000     3.300000      5.100000     1.800000\n",
       "max        7.900000     4.400000      6.900000     2.500000"
      ]
     },
     "execution_count": 4,
     "metadata": {},
     "output_type": "execute_result"
    }
   ],
   "source": [
    "#  minimum value, maximum value, mean, standard deviation, count, and 25:50:75% percentiles\n",
    "iris.describe(include=np.number)"
   ]
  },
  {
   "cell_type": "markdown",
   "id": "9798e534",
   "metadata": {},
   "source": [
    "1.2 Data Visualization"
   ]
  },
  {
   "cell_type": "markdown",
   "id": "f4bbd1c3",
   "metadata": {},
   "source": [
    "Histograms"
   ]
  },
  {
   "cell_type": "code",
   "execution_count": 5,
   "id": "ff80e343",
   "metadata": {},
   "outputs": [
    {
     "data": {
      "image/png": "[encoded data removed]",
      "text/plain": [
       "<Figure size 936x432 with 4 Axes>"
      ]
     },
     "metadata": {
      "needs_background": "light"
     },
     "output_type": "display_data"
    }
   ],
   "source": [
    "iris_hist = iris.hist(figsize=(13, 6))"
   ]
  },
  {
   "cell_type": "code",
   "execution_count": 6,
   "id": "e677ccf9",
   "metadata": {},
   "outputs": [
    {
     "data": {
      "image/png": "[encoded data removed]",
      "text/plain": [
       "<Figure size 432x288 with 1 Axes>"
      ]
     },
     "metadata": {
      "needs_background": "light"
     },
     "output_type": "display_data"
    }
   ],
   "source": [
    "# Box Plots\n",
    "iris_box = iris.boxplot(grid=False, return_type='both')"
   ]
  },
  {
   "cell_type": "code",
   "execution_count": 7,
   "id": "6c07b8e0",
   "metadata": {},
   "outputs": [
    {
     "data": {
      "image/png": "[encoded data removed]",
      "text/plain": [
       "<Figure size 432x288 with 16 Axes>"
      ]
     },
     "metadata": {
      "needs_background": "light"
     },
     "output_type": "display_data"
    }
   ],
   "source": [
    "# Pairwise Plot\n",
    "features = iris[[\"Sepal Length\", \"Sepal Width\",\"Petal Length\", \"Petal Width\"]]\n",
    "plt.figure()\n",
    "idx=1\n",
    "for ft1 in features:\n",
    "    for ft2 in features:\n",
    "        plt.subplot(4, 4, idx)\n",
    "        idx+=1\n",
    "        plt.scatter(iris[ft1], iris[ft2])\n",
    "        plt.xlabel(ft1)\n",
    "        plt.ylabel(ft2)\n",
    "plt.show()"
   ]
  },
  {
   "cell_type": "code",
   "execution_count": 8,
   "id": "139ee0a3",
   "metadata": {},
   "outputs": [
    {
     "data": {
      "image/png": "[encoded data removed]",
      "text/plain": [
       "<Figure size 432x288 with 12 Axes>"
      ]
     },
     "metadata": {
      "needs_background": "light"
     },
     "output_type": "display_data"
    }
   ],
   "source": [
    "# Class-wise Visualization\n",
    "plt.figure()\n",
    "idx=1\n",
    "for ft in features:\n",
    "    plt.subplot(3,4,idx)\n",
    "    plt.hist(iris[iris['Class']==\"Iris-setosa\"][ft])\n",
    "    plt.ylabel(\"Iris-setosa\")\n",
    "    plt.xlabel(ft)\n",
    "    plt.subplot(3,4,idx+4)\n",
    "    plt.hist(iris[iris['Class']==\"Iris-versicolor\"][ft])\n",
    "    plt.ylabel(\"Iris-versicolor\")\n",
    "    plt.xlabel(ft)\n",
    "    plt.subplot(3,4,idx+8)\n",
    "    plt.hist(iris[iris['Class']==\"Iris-virginica\"][ft])\n",
    "    plt.ylabel(\"Iris-virginica\")\n",
    "    plt.xlabel(ft)\n",
    "    idx+=1\n",
    "plt.show()"
   ]
  },
  {
   "cell_type": "markdown",
   "id": "af8d8a3f",
   "metadata": {},
   "source": [
    "1.3 Conceptual Questions"
   ]
  },
  {
   "cell_type": "markdown",
   "id": "1fb36e42",
   "metadata": {},
   "source": [
    "1. How many features are there? What are the Types of the features (e.g., numeric, nominal, discrete, continuous)?"
   ]
  },
  {
   "cell_type": "markdown",
   "id": "d941c078",
   "metadata": {},
   "source": [
    "    There are 4 features in total. Numeric type."
   ]
  },
  {
   "cell_type": "markdown",
   "id": "9f019703",
   "metadata": {},
   "source": [
    "2. From the histograms of the whole data, how do the shapes of the histograms for petal length and petal width differ from those for sepal length and sepal width? Is there a particular value of petal length (which ranges from 1.0 to 6.9) where the distribution of petal lengths (as illustrated by the histogram) could be best segmented into two parts?"
   ]
  },
  {
   "cell_type": "markdown",
   "id": "fb163168",
   "metadata": {},
   "source": [
    "    In the histograms, petal length and petal width tend to be lower in the middle, but higher at left and right side. On the contrary, sepal length and sepal width tend to be higher in the middle, lower at left and right side.\n",
    "    \n",
    "    When petal length is around 2.5, the distribution of petal lengths can be best segmented into two parts."
   ]
  },
  {
   "cell_type": "markdown",
   "id": "924272b0",
   "metadata": {},
   "source": [
    "3. Based upon these boxplots, is there a pair of features that appear to have significantly different medians? Recall that the degree of overlap between variability is an important initial indicator of the likelihood that differences in means or medians are meaningful. Also, based solely upon the box plots, which feature appears to explain the greatest amount of the data?"
   ]
  },
  {
   "cell_type": "markdown",
   "id": "4fd59cbd",
   "metadata": {},
   "source": [
    "    Regarding boxplots, sepal length and petal width has the most significant different medians.\n",
    "    \n",
    "    Based solely upon the box plots, petal length has the largest difference between 75% and 25% percentiles. It can explain the greatest amount of the data."
   ]
  },
  {
   "cell_type": "markdown",
   "id": "7e61fe70",
   "metadata": {},
   "source": [
    "4. From the pairwise plots of the features, which features are most correlated from the plots? Mention at least three pairs."
   ]
  },
  {
   "cell_type": "markdown",
   "id": "c3e16cb3",
   "metadata": {},
   "source": [
    "    Sepal length and sepal width, sepal width and petal length, petal width and sepal length."
   ]
  },
  {
   "cell_type": "markdown",
   "id": "cfc6277b",
   "metadata": {},
   "source": [
    "5. Compare the histograms of each class to the histograms of the whole dataset. What differences do you see in the shapes?"
   ]
  },
  {
   "cell_type": "markdown",
   "id": "8f955c57",
   "metadata": {},
   "source": [
    "    The general tendency of each class's histograms are similar with that of the whole dataset's histograms, but more cliffy and not smooth."
   ]
  },
  {
   "cell_type": "markdown",
   "id": "5b15dcd4",
   "metadata": {},
   "source": [
    "2 Air Quality Dataset"
   ]
  },
  {
   "cell_type": "code",
   "execution_count": 9,
   "id": "14f6a59d",
   "metadata": {},
   "outputs": [],
   "source": [
    "import pandas as pd\n",
    "air = pd.read_excel('AirQualityUCI.xlsx')"
   ]
  },
  {
   "cell_type": "markdown",
   "id": "bb4d2699",
   "metadata": {},
   "source": [
    "2.1 Summary Statistics"
   ]
  },
  {
   "cell_type": "code",
   "execution_count": 10,
   "id": "813f9785",
   "metadata": {},
   "outputs": [
    {
     "name": "stdout",
     "output_type": "stream",
     "text": [
      "CO(GT): [-200.0, 11.9]\n",
      "PT08.S1(CO): [-200.0, 2039.75]\n",
      "NMHC(GT): [-200, 1189]\n",
      "C6H6(GT): [-200.0, 63.74147644829163]\n",
      "PT08.S2(NMHC): [-200.0, 2214.0]\n",
      "NOx(GT): [-200.0, 1479.0]\n",
      "PT08.S3(NOx): [-200.0, 2682.75]\n",
      "NO2(GT): [-200.0, 339.7]\n",
      "PT08.S4(NO2): [-200.0, 2775.0]\n",
      "PT08.S5(O3): [-200.0, 2522.75]\n",
      "T: [-200.0, 44.60000038147]\n",
      "RH: [-200.0, 88.72500038147]\n",
      "AH: [-200.0, 2.2310357155831864]\n"
     ]
    }
   ],
   "source": [
    "# range\n",
    "for metric in air.columns[2:]: # excluding the first two cols, which are dates and times\n",
    "    print(metric+\": [\"+str(air[metric].min())+\", \"+str(air[metric].max())+\"]\")"
   ]
  },
  {
   "cell_type": "code",
   "execution_count": 11,
   "id": "4aa95043",
   "metadata": {},
   "outputs": [
    {
     "data": {
      "text/plain": [
       "CO(GT)             6030.636106\n",
       "PT08.S1(CO)      108779.263095\n",
       "NMHC(GT)          19540.990493\n",
       "C6H6(GT)           1712.317143\n",
       "PT08.S2(NMHC)    117180.176653\n",
       "NOx(GT)           66267.404793\n",
       "PT08.S3(NOx)     103669.208719\n",
       "NO2(GT)           16111.587462\n",
       "PT08.S4(NO2)     218268.721729\n",
       "PT08.S5(O3)      208778.379165\n",
       "T                  1866.537024\n",
       "RH                 2623.042273\n",
       "AH                 1519.180817\n",
       "dtype: float64"
      ]
     },
     "execution_count": 11,
     "metadata": {},
     "output_type": "execute_result"
    }
   ],
   "source": [
    "# variance\n",
    "air.var(numeric_only=True)"
   ]
  },
  {
   "cell_type": "code",
   "execution_count": 12,
   "id": "31b24fcd",
   "metadata": {},
   "outputs": [
    {
     "data": {
      "text/html": [
       "<div>\n",
       "<style scoped>\n",
       "    .dataframe tbody tr th:only-of-type {\n",
       "        vertical-align: middle;\n",
       "    }\n",
       "\n",
       "    .dataframe tbody tr th {\n",
       "        vertical-align: top;\n",
       "    }\n",
       "\n",
       "    .dataframe thead th {\n",
       "        text-align: right;\n",
       "    }\n",
       "</style>\n",
       "<table border=\"1\" class=\"dataframe\">\n",
       "  <thead>\n",
       "    <tr style=\"text-align: right;\">\n",
       "      <th></th>\n",
       "      <th>CO(GT)</th>\n",
       "      <th>PT08.S1(CO)</th>\n",
       "      <th>NMHC(GT)</th>\n",
       "      <th>C6H6(GT)</th>\n",
       "      <th>PT08.S2(NMHC)</th>\n",
       "      <th>NOx(GT)</th>\n",
       "      <th>PT08.S3(NOx)</th>\n",
       "      <th>NO2(GT)</th>\n",
       "      <th>PT08.S4(NO2)</th>\n",
       "      <th>PT08.S5(O3)</th>\n",
       "      <th>T</th>\n",
       "      <th>RH</th>\n",
       "      <th>AH</th>\n",
       "    </tr>\n",
       "  </thead>\n",
       "  <tbody>\n",
       "    <tr>\n",
       "      <th>count</th>\n",
       "      <td>9357.000000</td>\n",
       "      <td>9357.000000</td>\n",
       "      <td>9357.000000</td>\n",
       "      <td>9357.000000</td>\n",
       "      <td>9357.000000</td>\n",
       "      <td>9357.000000</td>\n",
       "      <td>9357.000000</td>\n",
       "      <td>9357.000000</td>\n",
       "      <td>9357.000000</td>\n",
       "      <td>9357.000000</td>\n",
       "      <td>9357.000000</td>\n",
       "      <td>9357.000000</td>\n",
       "      <td>9357.000000</td>\n",
       "    </tr>\n",
       "    <tr>\n",
       "      <th>mean</th>\n",
       "      <td>-34.207524</td>\n",
       "      <td>1048.869652</td>\n",
       "      <td>-159.090093</td>\n",
       "      <td>1.865576</td>\n",
       "      <td>894.475963</td>\n",
       "      <td>168.604200</td>\n",
       "      <td>794.872333</td>\n",
       "      <td>58.135898</td>\n",
       "      <td>1391.363266</td>\n",
       "      <td>974.951534</td>\n",
       "      <td>9.776600</td>\n",
       "      <td>39.483611</td>\n",
       "      <td>-6.837604</td>\n",
       "    </tr>\n",
       "    <tr>\n",
       "      <th>std</th>\n",
       "      <td>77.657170</td>\n",
       "      <td>329.817015</td>\n",
       "      <td>139.789093</td>\n",
       "      <td>41.380154</td>\n",
       "      <td>342.315902</td>\n",
       "      <td>257.424561</td>\n",
       "      <td>321.977031</td>\n",
       "      <td>126.931428</td>\n",
       "      <td>467.192382</td>\n",
       "      <td>456.922728</td>\n",
       "      <td>43.203438</td>\n",
       "      <td>51.215645</td>\n",
       "      <td>38.976670</td>\n",
       "    </tr>\n",
       "    <tr>\n",
       "      <th>min</th>\n",
       "      <td>-200.000000</td>\n",
       "      <td>-200.000000</td>\n",
       "      <td>-200.000000</td>\n",
       "      <td>-200.000000</td>\n",
       "      <td>-200.000000</td>\n",
       "      <td>-200.000000</td>\n",
       "      <td>-200.000000</td>\n",
       "      <td>-200.000000</td>\n",
       "      <td>-200.000000</td>\n",
       "      <td>-200.000000</td>\n",
       "      <td>-200.000000</td>\n",
       "      <td>-200.000000</td>\n",
       "      <td>-200.000000</td>\n",
       "    </tr>\n",
       "    <tr>\n",
       "      <th>25%</th>\n",
       "      <td>0.600000</td>\n",
       "      <td>921.000000</td>\n",
       "      <td>-200.000000</td>\n",
       "      <td>4.004958</td>\n",
       "      <td>711.000000</td>\n",
       "      <td>50.000000</td>\n",
       "      <td>637.000000</td>\n",
       "      <td>53.000000</td>\n",
       "      <td>1184.750000</td>\n",
       "      <td>699.750000</td>\n",
       "      <td>10.950000</td>\n",
       "      <td>34.050000</td>\n",
       "      <td>0.692275</td>\n",
       "    </tr>\n",
       "    <tr>\n",
       "      <th>50%</th>\n",
       "      <td>1.500000</td>\n",
       "      <td>1052.500000</td>\n",
       "      <td>-200.000000</td>\n",
       "      <td>7.886653</td>\n",
       "      <td>894.500000</td>\n",
       "      <td>141.000000</td>\n",
       "      <td>794.250000</td>\n",
       "      <td>96.000000</td>\n",
       "      <td>1445.500000</td>\n",
       "      <td>942.000000</td>\n",
       "      <td>17.200000</td>\n",
       "      <td>48.550000</td>\n",
       "      <td>0.976823</td>\n",
       "    </tr>\n",
       "    <tr>\n",
       "      <th>75%</th>\n",
       "      <td>2.600000</td>\n",
       "      <td>1221.250000</td>\n",
       "      <td>-200.000000</td>\n",
       "      <td>13.636091</td>\n",
       "      <td>1104.750000</td>\n",
       "      <td>284.200000</td>\n",
       "      <td>960.250000</td>\n",
       "      <td>133.000000</td>\n",
       "      <td>1662.000000</td>\n",
       "      <td>1255.250000</td>\n",
       "      <td>24.075000</td>\n",
       "      <td>61.875000</td>\n",
       "      <td>1.296223</td>\n",
       "    </tr>\n",
       "    <tr>\n",
       "      <th>max</th>\n",
       "      <td>11.900000</td>\n",
       "      <td>2039.750000</td>\n",
       "      <td>1189.000000</td>\n",
       "      <td>63.741476</td>\n",
       "      <td>2214.000000</td>\n",
       "      <td>1479.000000</td>\n",
       "      <td>2682.750000</td>\n",
       "      <td>339.700000</td>\n",
       "      <td>2775.000000</td>\n",
       "      <td>2522.750000</td>\n",
       "      <td>44.600000</td>\n",
       "      <td>88.725000</td>\n",
       "      <td>2.231036</td>\n",
       "    </tr>\n",
       "  </tbody>\n",
       "</table>\n",
       "</div>"
      ],
      "text/plain": [
       "            CO(GT)  PT08.S1(CO)     NMHC(GT)     C6H6(GT)  PT08.S2(NMHC)  \\\n",
       "count  9357.000000  9357.000000  9357.000000  9357.000000    9357.000000   \n",
       "mean    -34.207524  1048.869652  -159.090093     1.865576     894.475963   \n",
       "std      77.657170   329.817015   139.789093    41.380154     342.315902   \n",
       "min    -200.000000  -200.000000  -200.000000  -200.000000    -200.000000   \n",
       "25%       0.600000   921.000000  -200.000000     4.004958     711.000000   \n",
       "50%       1.500000  1052.500000  -200.000000     7.886653     894.500000   \n",
       "75%       2.600000  1221.250000  -200.000000    13.636091    1104.750000   \n",
       "max      11.900000  2039.750000  1189.000000    63.741476    2214.000000   \n",
       "\n",
       "           NOx(GT)  PT08.S3(NOx)      NO2(GT)  PT08.S4(NO2)  PT08.S5(O3)  \\\n",
       "count  9357.000000   9357.000000  9357.000000   9357.000000  9357.000000   \n",
       "mean    168.604200    794.872333    58.135898   1391.363266   974.951534   \n",
       "std     257.424561    321.977031   126.931428    467.192382   456.922728   \n",
       "min    -200.000000   -200.000000  -200.000000   -200.000000  -200.000000   \n",
       "25%      50.000000    637.000000    53.000000   1184.750000   699.750000   \n",
       "50%     141.000000    794.250000    96.000000   1445.500000   942.000000   \n",
       "75%     284.200000    960.250000   133.000000   1662.000000  1255.250000   \n",
       "max    1479.000000   2682.750000   339.700000   2775.000000  2522.750000   \n",
       "\n",
       "                 T           RH           AH  \n",
       "count  9357.000000  9357.000000  9357.000000  \n",
       "mean      9.776600    39.483611    -6.837604  \n",
       "std      43.203438    51.215645    38.976670  \n",
       "min    -200.000000  -200.000000  -200.000000  \n",
       "25%      10.950000    34.050000     0.692275  \n",
       "50%      17.200000    48.550000     0.976823  \n",
       "75%      24.075000    61.875000     1.296223  \n",
       "max      44.600000    88.725000     2.231036  "
      ]
     },
     "execution_count": 12,
     "metadata": {},
     "output_type": "execute_result"
    }
   ],
   "source": [
    "air.describe()"
   ]
  },
  {
   "cell_type": "markdown",
   "id": "afbe21cd",
   "metadata": {},
   "source": [
    "2.2 Data Visualization"
   ]
  },
  {
   "cell_type": "markdown",
   "id": "c23992ea",
   "metadata": {},
   "source": [
    "Histograms"
   ]
  },
  {
   "cell_type": "code",
   "execution_count": 13,
   "id": "b6241f7a",
   "metadata": {},
   "outputs": [
    {
     "data": {
      "image/png": "[encoded data removed]",
      "text/plain": [
       "<Figure size 432x288 with 13 Axes>"
      ]
     },
     "metadata": {
      "needs_background": "light"
     },
     "output_type": "display_data"
    }
   ],
   "source": [
    "import matplotlib.pyplot as plt\n",
    "plt.figure()\n",
    "idx=1\n",
    "for metric in air.columns[2:]:\n",
    "    plt.subplot(3, 5, idx)\n",
    "    plt.hist(air[metric])\n",
    "    idx+=1\n",
    "plt.show()"
   ]
  },
  {
   "cell_type": "markdown",
   "id": "2ce976c5",
   "metadata": {},
   "source": [
    "Boxplots with outliers"
   ]
  },
  {
   "cell_type": "code",
   "execution_count": 14,
   "id": "5d2529a6",
   "metadata": {
    "scrolled": false
   },
   "outputs": [
    {
     "data": {
      "image/png": "[encoded data removed]",
      "text/plain": [
       "<Figure size 432x288 with 1 Axes>"
      ]
     },
     "metadata": {
      "needs_background": "light"
     },
     "output_type": "display_data"
    }
   ],
   "source": [
    "metrics = []\n",
    "for col in air.columns[2:]:\n",
    "    metrics.append(air[col])\n",
    "plt.figure()\n",
    "plt.boxplot(metrics)\n",
    "plt.show()"
   ]
  },
  {
   "cell_type": "markdown",
   "id": "8b7b2c7f",
   "metadata": {},
   "source": [
    "Boxplots without outliers"
   ]
  },
  {
   "cell_type": "code",
   "execution_count": 15,
   "id": "aaad8ee6",
   "metadata": {},
   "outputs": [
    {
     "data": {
      "image/png": "[encoded data removed]",
      "text/plain": [
       "<Figure size 432x288 with 1 Axes>"
      ]
     },
     "metadata": {
      "needs_background": "light"
     },
     "output_type": "display_data"
    }
   ],
   "source": [
    "plt.figure()\n",
    "plt.boxplot(metrics, showfliers=False)\n",
    "plt.show()"
   ]
  },
  {
   "cell_type": "markdown",
   "id": "76cc82ea",
   "metadata": {},
   "source": [
    "2.3 Conceptual Questions"
   ]
  },
  {
   "cell_type": "markdown",
   "id": "943b3b07",
   "metadata": {},
   "source": [
    "1. From the histograms, what abnormality can you see?"
   ]
  },
  {
   "cell_type": "markdown",
   "id": "2a71544a",
   "metadata": {},
   "source": [
    "    From the histograms, we can see the distribution of some metrics are extremely gathered."
   ]
  },
  {
   "cell_type": "markdown",
   "id": "c522b3be",
   "metadata": {},
   "source": [
    "2. What abnormality can you see from the summary statistics?"
   ]
  },
  {
   "cell_type": "markdown",
   "id": "920bae9b",
   "metadata": {},
   "source": [
    "    The variance and the standard deviation are extremely large for some metrics like PT08.S4(NO2) and PT08.S5(O3)."
   ]
  },
  {
   "cell_type": "markdown",
   "id": "4164f722",
   "metadata": {},
   "source": [
    "3. How can you remove the abnormality from the data?"
   ]
  },
  {
   "cell_type": "markdown",
   "id": "ba578411",
   "metadata": {},
   "source": [
    "    The box chart can be applied to remove the abnormality. We can consider those values less than the 25% percentile by 1.5 times, or larger than the 75% percentile by 1.5 times as outliers. Use median to replace these abnormal data."
   ]
  },
  {
   "cell_type": "markdown",
   "id": "381dd392",
   "metadata": {},
   "source": [
    "4. Show how the histograms look after removing the abnormalities from the data?"
   ]
  },
  {
   "cell_type": "code",
   "execution_count": 16,
   "id": "03593142",
   "metadata": {},
   "outputs": [
    {
     "data": {
      "image/png": "[encoded data removed]",
      "text/plain": [
       "<Figure size 432x288 with 13 Axes>"
      ]
     },
     "metadata": {
      "needs_background": "light"
     },
     "output_type": "display_data"
    }
   ],
   "source": [
    "for metric in air.columns[2:]:\n",
    "    a = air[metric].quantile(0.75)\n",
    "    b = air[metric].quantile(0.25)\n",
    "air[(air[metric]>=(a-b)*1.5+a)|(air[metric]<=b-(a-b)*1.5)]=np.nan\n",
    "air.fillna(air.median(numeric_only=True),inplace=True)\n",
    "\n",
    "plt.figure()\n",
    "idx=1\n",
    "for metric in air.columns[2:]:\n",
    "    plt.subplot(3, 5, idx)\n",
    "    plt.hist(air[metric])\n",
    "    idx+=1\n",
    "plt.show()"
   ]
  }
 ],
 "metadata": {
  "kernelspec": {
   "display_name": "Python 3 (ipykernel)",
   "language": "python",
   "name": "python3"
  },
  "language_info": {
   "codemirror_mode": {
    "name": "ipython",
    "version": 3
   },
   "file_extension": ".py",
   "mimetype": "text/x-python",
   "name": "python",
   "nbconvert_exporter": "python",
   "pygments_lexer": "ipython3",
   "version": "3.9.7"
  }
 },
 "nbformat": 4,
 "nbformat_minor": 5
}
